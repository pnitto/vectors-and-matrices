{
 "cells": [
  {
   "cell_type": "code",
   "execution_count": 206,
   "metadata": {
    "collapsed": false
   },
   "outputs": [],
   "source": [
    "\n",
    "import random\n",
    "\n",
    "class Card():\n",
    "  \n",
    "    \n",
    "    def __init__(self, rank, suit):\n",
    "        \n",
    "        card_dict = {'A': 1,\n",
    "              'K': 10,\n",
    "              'Q': 10,\n",
    "              'J': 10,\n",
    "              '10':10,\n",
    "              '9': 9,\n",
    "              '8': 8,\n",
    "              '7': 7,\n",
    "              '6': 6,\n",
    "              '5': 5,\n",
    "              '4': 4,\n",
    "              '3': 3,\n",
    "              '2': 2\n",
    "                    }\n",
    "        \n",
    "        self.rank = rank\n",
    "        self.card_value = card_dict[rank]\n",
    "        self.suit = suit\n",
    "        \n",
    "         \n",
    "        #card = Card(\"4\",\"hearts\")\n",
    "        #print(card.rank, card.suit, card.card_value)\n",
    "        card_suits =[\"hearts\", \"diamonds\", \"spades\", \"clubs\"]\n",
    "        \n",
    "class Deck():\n",
    "    \n",
    "    def __init__(self, suit, value):\n",
    "        random_deck = []\n",
    "        for suit in card_suits:\n",
    "            for value in card_dict.keys():\n",
    "                self.random_deck.append(Card(suit,value))\n",
    "\n",
    "        #for suit in card_suits:\n",
    "            #for value in card_dict.keys():\n",
    "                #print(suit,value)\n",
    "        \n",
    "    \n",
    "class Hands():\n",
    "    \n",
    "    def __init__(self):\n",
    "    \n",
    "    def player_one_hand(self):\n",
    "        player_one_hand = []\n",
    "        first_player_one_card = self.random_deck.pop()\n",
    "        second_player_one_card = self.random_deck.pop()\n",
    "        self.player_one_hand.append(first_player_one_card, second_player_one_card)\n",
    "        \n",
    "    def computer_hand(self):\n",
    "        computer_hand = []\n",
    "        first_computer_card = self.random_deck.pop()\n",
    "        second_computer_card = self.random_deck.pop()\n",
    "        self.computer_hand.append(first_computer_card, second_computer_card)\n",
    "\n",
    "class Dealer():\n",
    "    \n",
    "    \n",
    "        \n",
    "    def hit_function(self):\n",
    "        \n",
    "        #player_one_total = first_player_one_card + second_player_one_card\n",
    "    \n",
    "    #Responsibilites:\n",
    "    #deals 2 random cards from deck to player and self(possibly one to player one to dealer, and repeat?)\n",
    "    #deals an additional card if player asks to \"hit\"\n",
    "    #if player asks to \"stay\", dealer then deals himself a card if the sum of his cards is less than 17.\n",
    "    #dealer will continue to \"hit\" until the value of his cards is greater than or equal to 17. \n",
    "    #dealer will stop \"hitting\" when the value of his cards is greater than 21(\"bust\") or between 17-21. \n",
    "    \n",
    "    #Collaborators:\n",
    "    #Game\n",
    "    #Card\n",
    "    #Deck\n",
    "    \n",
    "class Game():\n",
    "    game = False\n",
    "    \n",
    "    \n",
    "    def start_game(self):\n",
    "        self.game = True\n",
    "    \n",
    "    def \n",
    "       \n",
    "    \n",
    "    def stop_game(self):\n",
    "        self.game = False\n",
    "            \n",
    "        \n",
    "        \n",
    "    \n",
    "    #Responsibilities:\n",
    "    #starts game, do you want to play black jack?\n",
    "    #player starts with $100 and can bet $5 or $10 dollars before each hand is dealt\n",
    "    #if player gets a total of 21 on the first 2 random cards and Dealer does not have 21, Player Wins! + your bet and amount bet\n",
    "      ##check to see if players cards equal 21 and if dealers cards equal 21\n",
    "    ##if both dealer and player have 21, Dealer Wins!  - player bet\n",
    "    #if player gets a total value greater then the dealer and it does not exceed 21, then Player Wins! + your bet...\n",
    "    #if dealer exceeds 21, Player Wins!+ your bet...\n",
    "    #if player exceeds 21, Dealer Wins! - your bet\n",
    "    #if dealer gets a total value greater then the player and it does not exceed 21, the Dealer Wins! - your bet\n",
    "    #if player sum of cards is equal to the dealers sum of cars <= 20 a \"push\" occurs no money is taken or given\n",
    "    #if dealer or player win, ask to play another round or quit\n",
    "    \n",
    "    #Collaborators:\n",
    "    #Dealer\n",
    "    #Deck\n",
    "    \n",
    "    \n",
    "    \n",
    "    \n",
    "    \n",
    "    \n",
    "    "
   ]
  },
  {
   "cell_type": "code",
   "execution_count": 207,
   "metadata": {
    "collapsed": false
   },
   "outputs": [
    {
     "ename": "NameError",
     "evalue": "name 'suit' is not defined",
     "output_type": "error",
     "traceback": [
      "\u001b[0;31m---------------------------------------------------------------------------\u001b[0m",
      "\u001b[0;31mNameError\u001b[0m                                 Traceback (most recent call last)",
      "\u001b[0;32m<ipython-input-207-24e8b92f2b8e>\u001b[0m in \u001b[0;36m<module>\u001b[0;34m()\u001b[0m\n\u001b[0;32m----> 1\u001b[0;31m \u001b[0mCard\u001b[0m\u001b[0;34m(\u001b[0m\u001b[0msuit\u001b[0m\u001b[0;34m,\u001b[0m\u001b[0mvalue\u001b[0m\u001b[0;34m)\u001b[0m\u001b[0;34m\u001b[0m\u001b[0m\n\u001b[0m",
      "\u001b[0;31mNameError\u001b[0m: name 'suit' is not defined"
     ]
    }
   ],
   "source": [
    "Card(suit,value)\n"
   ]
  },
  {
   "cell_type": "code",
   "execution_count": 194,
   "metadata": {
    "collapsed": false
   },
   "outputs": [],
   "source": [
    "def __init__(self):\n",
    "        \n",
    "    card_dict = {'Ac': 1,\n",
    "              'K': 10,\n",
    "              'Q': 10,\n",
    "              'J': 10,\n",
    "              '10':10,\n",
    "              '9': 9,\n",
    "              '8': 8,\n",
    "              '7': 7,\n",
    "              '6': 6,\n",
    "              '5': 5,\n",
    "              '4': 4,\n",
    "              '3': 3,\n",
    "              '2': 2}\n",
    "        \n",
    "    card_suits =[\"hearts\", \"diamonds\", \"spades\", \"clubs\"]\n",
    "    for suit in card_suits:\n",
    "        for value in card_dict.keys():\n",
    "            print(suit,value)\n",
    "                \n",
    " \n",
    "                "
   ]
  },
  {
   "cell_type": "code",
   "execution_count": 165,
   "metadata": {
    "collapsed": false
   },
   "outputs": [
    {
     "ename": "TypeError",
     "evalue": "__init__() missing 2 required positional arguments: 'rank' and 'suit'",
     "output_type": "error",
     "traceback": [
      "\u001b[0;31m---------------------------------------------------------------------------\u001b[0m",
      "\u001b[0;31mTypeError\u001b[0m                                 Traceback (most recent call last)",
      "\u001b[0;32m<ipython-input-165-4d477fab4d84>\u001b[0m in \u001b[0;36m<module>\u001b[0;34m()\u001b[0m\n\u001b[0;32m----> 1\u001b[0;31m \u001b[0mCard\u001b[0m\u001b[0;34m(\u001b[0m\u001b[0;34m)\u001b[0m\u001b[0;34m\u001b[0m\u001b[0m\n\u001b[0m",
      "\u001b[0;31mTypeError\u001b[0m: __init__() missing 2 required positional arguments: 'rank' and 'suit'"
     ]
    }
   ],
   "source": [
    "\n"
   ]
  },
  {
   "cell_type": "code",
   "execution_count": 123,
   "metadata": {
    "collapsed": false
   },
   "outputs": [
    {
     "ename": "TypeError",
     "evalue": "__init__() missing 2 required positional arguments: 'rank' and 'suit'",
     "output_type": "error",
     "traceback": [
      "\u001b[0;31m---------------------------------------------------------------------------\u001b[0m",
      "\u001b[0;31mTypeError\u001b[0m                                 Traceback (most recent call last)",
      "\u001b[0;32m<ipython-input-123-4d477fab4d84>\u001b[0m in \u001b[0;36m<module>\u001b[0;34m()\u001b[0m\n\u001b[0;32m----> 1\u001b[0;31m \u001b[0mCard\u001b[0m\u001b[0;34m(\u001b[0m\u001b[0;34m)\u001b[0m\u001b[0;34m\u001b[0m\u001b[0m\n\u001b[0m",
      "\u001b[0;31mTypeError\u001b[0m: __init__() missing 2 required positional arguments: 'rank' and 'suit'"
     ]
    }
   ],
   "source": []
  },
  {
   "cell_type": "code",
   "execution_count": 124,
   "metadata": {
    "collapsed": false
   },
   "outputs": [
    {
     "ename": "SyntaxError",
     "evalue": "unexpected EOF while parsing (<ipython-input-124-4cd725275ea2>, line 22)",
     "output_type": "error",
     "traceback": [
      "\u001b[0;36m  File \u001b[0;32m\"<ipython-input-124-4cd725275ea2>\"\u001b[0;36m, line \u001b[0;32m22\u001b[0m\n\u001b[0;31m    \u001b[0m\n\u001b[0m    ^\u001b[0m\n\u001b[0;31mSyntaxError\u001b[0m\u001b[0;31m:\u001b[0m unexpected EOF while parsing\n"
     ]
    }
   ],
   "source": [
    "\n",
    "import random\n",
    "\n",
    "class Card():\n",
    "  \n",
    "    \n",
    "    def __init__(self, rank, suit):\n",
    "        \n",
    "        card_dict = {'A': 1,'K': 10, 'Q': 10,'J': 10,'10':10,'9': 9,'8': 8,'7': 7,'6': 6,'5': 5,'4': 4,'3': 3,'2': 2}\n",
    "        \n",
    "        self.rank = rank\n",
    "        self.card_value = card_dict[rank]\n",
    "        self.suit = suit\n",
    "        \n",
    "        #card = Card(\"4\",\"hearts\")\n",
    "        #print(card.rank, card.suit, card.card_value)\n",
    "        #card_suits =[\"hearts\", \"diamonds\", \"spades\", \"clubs\"]\n",
    "\n",
    "    def random_deck(self):\n",
    "       \n",
    "\n",
    "\n",
    "class Card():\n",
    "  \n",
    "    \n",
    "    def __init__(self, rank, suit):\n",
    "        \n",
    "        card_dict = {'A': 1,\n",
    "              'K': 10,\n",
    "              'Q': 10,\n",
    "              'J': 10,\n",
    "              '10':10,\n",
    "              '9': 9,\n",
    "              '8': 8,\n",
    "              '7': 7,\n",
    "              '6': 6,\n",
    "              '5': 5,\n",
    "              '4': 4,\n",
    "              '3': 3,\n",
    "              '2': 2\n",
    "                    }\n",
    "        \n",
    "        self.rank = rank\n",
    "        self.card_value = card_dict[rank]\n",
    "        self.suit = suit\n",
    "        \n",
    "        card = Card(\"4\",\"hearts\")\n",
    "        print(card.rank, card.suit, card.card_value)\n",
    "        card_suits =[\"hearts\", \"diamonds\", \"spades\", \"clubs\"]\n",
    "\n",
    "    def random_deck(self):\n",
    "        random_deck = []\n",
    "    \n",
    "            print(card_suits, card_dict)\n",
    "            "
   ]
  },
  {
   "cell_type": "code",
   "execution_count": 205,
   "metadata": {
    "collapsed": false
   },
   "outputs": [
    {
     "name": "stdout",
     "output_type": "stream",
     "text": [
      "Your first card is 10, computer's first card is 10, type 'SHOW' to show your other card! SHOW\n",
      "You have [10, 10, 20]\n",
      "Computer stands on 17. Do you want another card? no\n",
      "Computer has drawn 10\n",
      "Your total is 20\n",
      "You have [10, 10, 20]\n",
      "Computer has [10, 4, 10, 24]\n",
      "CONGRATS, it looks like you won this one! Let's play again!\n"
     ]
    }
   ],
   "source": [
    "\n",
    "\n",
    "\n",
    "    "
   ]
  },
  {
   "cell_type": "code",
   "execution_count": 1,
   "metadata": {
    "collapsed": false
   },
   "outputs": [],
   "source": [
    "\n",
    "    \n",
    "board = [0, 1, 2,\n",
    "         3, 4, 5,\n",
    "         6, 7, 8,\n",
    "         ]\n",
    "\n",
    "def show_board():\n",
    "    print(board[0],'|', board[1], '|', board[2])\n",
    "    print('_________')\n",
    "    print(board[3], '|', board[4], '|', board[5])\n",
    "    print('_________')\n",
    "    print(board[6], '|', board[7], '|', board[8])\n"
   ]
  },
  {
   "cell_type": "code",
   "execution_count": null,
   "metadata": {
    "collapsed": true
   },
   "outputs": [],
   "source": []
  },
  {
   "cell_type": "code",
   "execution_count": null,
   "metadata": {
    "collapsed": false
   },
   "outputs": [],
   "source": [
    "    \n",
    "board = [0, 1, 2,\n",
    "         3, 4, 5,\n",
    "         6, 7, 8,\n",
    "         ]\n",
    "\n",
    "def show_board():\n",
    "        print(board[0],'|', board[1], '|', board[2])\n",
    "        print('_________')\n",
    "        print(board[3], '|', board[4], '|', board[5])\n",
    "        print('_________')\n",
    "        print(board[6], '|', board[7], '|', board[8])\n",
    "\n",
    "        #while True:\n",
    "         \n",
    "            #player_one_input =int(input(\"Select a location, using 0-8:  \")) \n",
    "            #break\n",
    "            #if player_one_input != 'X' or 'O':\n",
    "             #   board[player_one_input] = 'X'\n",
    "        \n",
    "            #else:\n",
    "             #   print(\"This spot is already taken.\")      \n",
    "    \n",
    "show_board()"
   ]
  },
  {
   "cell_type": "code",
   "execution_count": 36,
   "metadata": {
    "collapsed": false
   },
   "outputs": [
    {
     "ename": "IndentationError",
     "evalue": "unexpected indent (<ipython-input-36-b64141266c8e>, line 4)",
     "output_type": "error",
     "traceback": [
      "\u001b[0;36m  File \u001b[0;32m\"<ipython-input-36-b64141266c8e>\"\u001b[0;36m, line \u001b[0;32m4\u001b[0m\n\u001b[0;31m    print(new_list)\u001b[0m\n\u001b[0m    ^\u001b[0m\n\u001b[0;31mIndentationError\u001b[0m\u001b[0;31m:\u001b[0m unexpected indent\n"
     ]
    }
   ],
   "source": []
  },
  {
   "cell_type": "code",
   "execution_count": 4,
   "metadata": {
    "collapsed": false
   },
   "outputs": [
    {
     "name": "stdout",
     "output_type": "stream",
     "text": [
      "0 | 1 | 2\n",
      "_________\n",
      "3 | 4 | 5\n",
      "_________\n",
      "6 | 7 | 8\n"
     ]
    },
    {
     "ename": "KeyboardInterrupt",
     "evalue": "",
     "output_type": "error",
     "traceback": [
      "\u001b[0;31m---------------------------------------------------------------------------\u001b[0m",
      "\u001b[0;31mKeyboardInterrupt\u001b[0m                         Traceback (most recent call last)",
      "\u001b[0;32m/Users/pnitto/iron_yard/vectors-and-matrices/.direnv/python-3.4.3/lib/python3.4/site-packages/IPython/kernel/zmq/kernelbase.py\u001b[0m in \u001b[0;36m_input_request\u001b[0;34m(self, prompt, ident, parent, password)\u001b[0m\n\u001b[1;32m    675\u001b[0m             \u001b[0;32mtry\u001b[0m\u001b[0;34m:\u001b[0m\u001b[0;34m\u001b[0m\u001b[0m\n\u001b[0;32m--> 676\u001b[0;31m                 \u001b[0mident\u001b[0m\u001b[0;34m,\u001b[0m \u001b[0mreply\u001b[0m \u001b[0;34m=\u001b[0m \u001b[0mself\u001b[0m\u001b[0;34m.\u001b[0m\u001b[0msession\u001b[0m\u001b[0;34m.\u001b[0m\u001b[0mrecv\u001b[0m\u001b[0;34m(\u001b[0m\u001b[0mself\u001b[0m\u001b[0;34m.\u001b[0m\u001b[0mstdin_socket\u001b[0m\u001b[0;34m,\u001b[0m \u001b[0;36m0\u001b[0m\u001b[0;34m)\u001b[0m\u001b[0;34m\u001b[0m\u001b[0m\n\u001b[0m\u001b[1;32m    677\u001b[0m             \u001b[0;32mexcept\u001b[0m \u001b[0mException\u001b[0m\u001b[0;34m:\u001b[0m\u001b[0;34m\u001b[0m\u001b[0m\n",
      "\u001b[0;32m/Users/pnitto/iron_yard/vectors-and-matrices/.direnv/python-3.4.3/lib/python3.4/site-packages/IPython/kernel/zmq/session.py\u001b[0m in \u001b[0;36mrecv\u001b[0;34m(self, socket, mode, content, copy)\u001b[0m\n\u001b[1;32m    718\u001b[0m         \u001b[0;32mtry\u001b[0m\u001b[0;34m:\u001b[0m\u001b[0;34m\u001b[0m\u001b[0m\n\u001b[0;32m--> 719\u001b[0;31m             \u001b[0mmsg_list\u001b[0m \u001b[0;34m=\u001b[0m \u001b[0msocket\u001b[0m\u001b[0;34m.\u001b[0m\u001b[0mrecv_multipart\u001b[0m\u001b[0;34m(\u001b[0m\u001b[0mmode\u001b[0m\u001b[0;34m,\u001b[0m \u001b[0mcopy\u001b[0m\u001b[0;34m=\u001b[0m\u001b[0mcopy\u001b[0m\u001b[0;34m)\u001b[0m\u001b[0;34m\u001b[0m\u001b[0m\n\u001b[0m\u001b[1;32m    720\u001b[0m         \u001b[0;32mexcept\u001b[0m \u001b[0mzmq\u001b[0m\u001b[0;34m.\u001b[0m\u001b[0mZMQError\u001b[0m \u001b[0;32mas\u001b[0m \u001b[0me\u001b[0m\u001b[0;34m:\u001b[0m\u001b[0;34m\u001b[0m\u001b[0m\n",
      "\u001b[0;32m/Users/pnitto/iron_yard/vectors-and-matrices/.direnv/python-3.4.3/lib/python3.4/site-packages/zmq/sugar/socket.py\u001b[0m in \u001b[0;36mrecv_multipart\u001b[0;34m(self, flags, copy, track)\u001b[0m\n\u001b[1;32m    339\u001b[0m         \"\"\"\n\u001b[0;32m--> 340\u001b[0;31m         \u001b[0mparts\u001b[0m \u001b[0;34m=\u001b[0m \u001b[0;34m[\u001b[0m\u001b[0mself\u001b[0m\u001b[0;34m.\u001b[0m\u001b[0mrecv\u001b[0m\u001b[0;34m(\u001b[0m\u001b[0mflags\u001b[0m\u001b[0;34m,\u001b[0m \u001b[0mcopy\u001b[0m\u001b[0;34m=\u001b[0m\u001b[0mcopy\u001b[0m\u001b[0;34m,\u001b[0m \u001b[0mtrack\u001b[0m\u001b[0;34m=\u001b[0m\u001b[0mtrack\u001b[0m\u001b[0;34m)\u001b[0m\u001b[0;34m]\u001b[0m\u001b[0;34m\u001b[0m\u001b[0m\n\u001b[0m\u001b[1;32m    341\u001b[0m         \u001b[0;31m# have first part already, only loop while more to receive\u001b[0m\u001b[0;34m\u001b[0m\u001b[0;34m\u001b[0m\u001b[0m\n",
      "\u001b[0;32mzmq/backend/cython/socket.pyx\u001b[0m in \u001b[0;36mzmq.backend.cython.socket.Socket.recv (zmq/backend/cython/socket.c:5785)\u001b[0;34m()\u001b[0m\n",
      "\u001b[0;32mzmq/backend/cython/socket.pyx\u001b[0m in \u001b[0;36mzmq.backend.cython.socket.Socket.recv (zmq/backend/cython/socket.c:5585)\u001b[0;34m()\u001b[0m\n",
      "\u001b[0;32mzmq/backend/cython/socket.pyx\u001b[0m in \u001b[0;36mzmq.backend.cython.socket._recv_copy (zmq/backend/cython/socket.c:1738)\u001b[0;34m()\u001b[0m\n",
      "\u001b[0;32m/Users/pnitto/iron_yard/vectors-and-matrices/.direnv/python-3.4.3/lib/python3.4/site-packages/zmq/backend/cython/checkrc.pxd\u001b[0m in \u001b[0;36mzmq.backend.cython.checkrc._check_rc (zmq/backend/cython/socket.c:6035)\u001b[0;34m()\u001b[0m\n\u001b[1;32m     10\u001b[0m     \u001b[0mcdef\u001b[0m \u001b[0mint\u001b[0m \u001b[0merrno\u001b[0m \u001b[0;34m=\u001b[0m \u001b[0mzmq_errno\u001b[0m\u001b[0;34m(\u001b[0m\u001b[0;34m)\u001b[0m\u001b[0;34m\u001b[0m\u001b[0m\n\u001b[0;32m---> 11\u001b[0;31m     \u001b[0mPyErr_CheckSignals\u001b[0m\u001b[0;34m(\u001b[0m\u001b[0;34m)\u001b[0m\u001b[0;34m\u001b[0m\u001b[0m\n\u001b[0m\u001b[1;32m     12\u001b[0m     \u001b[0;32mif\u001b[0m \u001b[0mrc\u001b[0m \u001b[0;34m<\u001b[0m \u001b[0;36m0\u001b[0m\u001b[0;34m:\u001b[0m\u001b[0;34m\u001b[0m\u001b[0m\n",
      "\u001b[0;31mKeyboardInterrupt\u001b[0m: ",
      "\nDuring handling of the above exception, another exception occurred:\n",
      "\u001b[0;31mKeyboardInterrupt\u001b[0m                         Traceback (most recent call last)",
      "\u001b[0;32m<ipython-input-4-8b265c98d862>\u001b[0m in \u001b[0;36m<module>\u001b[0;34m()\u001b[0m\n\u001b[1;32m     25\u001b[0m          \u001b[0;31m#   print(\"This spot is already taken.\")\u001b[0m\u001b[0;34m\u001b[0m\u001b[0;34m\u001b[0m\u001b[0m\n\u001b[1;32m     26\u001b[0m \u001b[0;34m\u001b[0m\u001b[0m\n\u001b[0;32m---> 27\u001b[0;31m \u001b[0mshow_board\u001b[0m\u001b[0;34m(\u001b[0m\u001b[0;34m)\u001b[0m\u001b[0;34m\u001b[0m\u001b[0m\n\u001b[0m",
      "\u001b[0;32m<ipython-input-4-8b265c98d862>\u001b[0m in \u001b[0;36mshow_board\u001b[0;34m()\u001b[0m\n\u001b[1;32m     14\u001b[0m     \u001b[0;32mwhile\u001b[0m \u001b[0;32mTrue\u001b[0m\u001b[0;34m:\u001b[0m\u001b[0;34m\u001b[0m\u001b[0m\n\u001b[1;32m     15\u001b[0m \u001b[0;34m\u001b[0m\u001b[0m\n\u001b[0;32m---> 16\u001b[0;31m         \u001b[0mplayer_one_input\u001b[0m \u001b[0;34m=\u001b[0m\u001b[0mint\u001b[0m\u001b[0;34m(\u001b[0m\u001b[0minput\u001b[0m\u001b[0;34m(\u001b[0m\u001b[0;34m\"Select a location, using 0-8:  \"\u001b[0m\u001b[0;34m)\u001b[0m\u001b[0;34m)\u001b[0m\u001b[0;34m\u001b[0m\u001b[0m\n\u001b[0m\u001b[1;32m     17\u001b[0m \u001b[0;34m\u001b[0m\u001b[0m\n\u001b[1;32m     18\u001b[0m \u001b[0;34m\u001b[0m\u001b[0m\n",
      "\u001b[0;32m/Users/pnitto/iron_yard/vectors-and-matrices/.direnv/python-3.4.3/lib/python3.4/site-packages/IPython/kernel/zmq/kernelbase.py\u001b[0m in \u001b[0;36mraw_input\u001b[0;34m(self, prompt)\u001b[0m\n\u001b[1;32m    649\u001b[0m             \u001b[0mself\u001b[0m\u001b[0;34m.\u001b[0m\u001b[0m_parent_ident\u001b[0m\u001b[0;34m,\u001b[0m\u001b[0;34m\u001b[0m\u001b[0m\n\u001b[1;32m    650\u001b[0m             \u001b[0mself\u001b[0m\u001b[0;34m.\u001b[0m\u001b[0m_parent_header\u001b[0m\u001b[0;34m,\u001b[0m\u001b[0;34m\u001b[0m\u001b[0m\n\u001b[0;32m--> 651\u001b[0;31m             \u001b[0mpassword\u001b[0m\u001b[0;34m=\u001b[0m\u001b[0;32mFalse\u001b[0m\u001b[0;34m,\u001b[0m\u001b[0;34m\u001b[0m\u001b[0m\n\u001b[0m\u001b[1;32m    652\u001b[0m         )\n\u001b[1;32m    653\u001b[0m \u001b[0;34m\u001b[0m\u001b[0m\n",
      "\u001b[0;32m/Users/pnitto/iron_yard/vectors-and-matrices/.direnv/python-3.4.3/lib/python3.4/site-packages/IPython/kernel/zmq/kernelbase.py\u001b[0m in \u001b[0;36m_input_request\u001b[0;34m(self, prompt, ident, parent, password)\u001b[0m\n\u001b[1;32m    679\u001b[0m             \u001b[0;32mexcept\u001b[0m \u001b[0mKeyboardInterrupt\u001b[0m\u001b[0;34m:\u001b[0m\u001b[0;34m\u001b[0m\u001b[0m\n\u001b[1;32m    680\u001b[0m                 \u001b[0;31m# re-raise KeyboardInterrupt, to truncate traceback\u001b[0m\u001b[0;34m\u001b[0m\u001b[0;34m\u001b[0m\u001b[0m\n\u001b[0;32m--> 681\u001b[0;31m                 \u001b[0;32mraise\u001b[0m \u001b[0mKeyboardInterrupt\u001b[0m\u001b[0;34m\u001b[0m\u001b[0m\n\u001b[0m\u001b[1;32m    682\u001b[0m             \u001b[0;32melse\u001b[0m\u001b[0;34m:\u001b[0m\u001b[0;34m\u001b[0m\u001b[0m\n\u001b[1;32m    683\u001b[0m                 \u001b[0;32mbreak\u001b[0m\u001b[0;34m\u001b[0m\u001b[0m\n",
      "\u001b[0;31mKeyboardInterrupt\u001b[0m: "
     ]
    }
   ],
   "source": [
    "    \n",
    "board = [0, 1, 2,\n",
    "         3, 4, 5,\n",
    "         6, 7, 8,\n",
    "         ]\n",
    "\n",
    "def show_board():\n",
    "        print(board[0],'|', board[1], '|', board[2])\n",
    "        print('_________')\n",
    "        print(board[3], '|', board[4], '|', board[5])\n",
    "        print('_________')\n",
    "        print(board[6], '|', board[7], '|', board[8])\n",
    "\n",
    "        while True:\n",
    "         \n",
    "            player_one_input =int(input(\"Select a location, using 0-8:  \")) \n",
    "            player_one_input = \n",
    "            \n",
    "            \n",
    "            #break\n",
    "            #if player_one_input != 'X' or 'O':\n",
    "             #   board[player_one_input] = 'X'\n",
    "        \n",
    "            #else:\n",
    "             #   print(\"This spot is already taken.\")      \n",
    "    \n",
    "show_board()"
   ]
  },
  {
   "cell_type": "code",
   "execution_count": 6,
   "metadata": {
    "collapsed": false
   },
   "outputs": [
    {
     "name": "stdout",
     "output_type": "stream",
     "text": [
      "_ | _ | _\n",
      "_________\n",
      "_ | _ | _\n",
      "_________\n",
      "_ | _ | _\n",
      "Select a location, using 0-8:  8\n",
      "Select a location, using 0-8:  (0,1)\n"
     ]
    },
    {
     "ename": "ValueError",
     "evalue": "invalid literal for int() with base 10: '(0,1)'",
     "output_type": "error",
     "traceback": [
      "\u001b[0;31m---------------------------------------------------------------------------\u001b[0m",
      "\u001b[0;31mValueError\u001b[0m                                Traceback (most recent call last)",
      "\u001b[0;32m<ipython-input-6-40538b08dda9>\u001b[0m in \u001b[0;36m<module>\u001b[0;34m()\u001b[0m\n\u001b[1;32m     25\u001b[0m          \u001b[0;31m#   print(\"This spot is already taken.\")\u001b[0m\u001b[0;34m\u001b[0m\u001b[0;34m\u001b[0m\u001b[0m\n\u001b[1;32m     26\u001b[0m \u001b[0;34m\u001b[0m\u001b[0m\n\u001b[0;32m---> 27\u001b[0;31m \u001b[0mshow_board\u001b[0m\u001b[0;34m(\u001b[0m\u001b[0;34m)\u001b[0m\u001b[0;34m\u001b[0m\u001b[0m\n\u001b[0m",
      "\u001b[0;32m<ipython-input-6-40538b08dda9>\u001b[0m in \u001b[0;36mshow_board\u001b[0;34m()\u001b[0m\n\u001b[1;32m     14\u001b[0m     \u001b[0;32mwhile\u001b[0m \u001b[0;32mTrue\u001b[0m\u001b[0;34m:\u001b[0m\u001b[0;34m\u001b[0m\u001b[0m\n\u001b[1;32m     15\u001b[0m \u001b[0;34m\u001b[0m\u001b[0m\n\u001b[0;32m---> 16\u001b[0;31m         \u001b[0mplayer_one_input\u001b[0m \u001b[0;34m=\u001b[0m\u001b[0mint\u001b[0m\u001b[0;34m(\u001b[0m\u001b[0minput\u001b[0m\u001b[0;34m(\u001b[0m\u001b[0;34m\"Select a location, using 0-8:  \"\u001b[0m\u001b[0;34m)\u001b[0m\u001b[0;34m)\u001b[0m\u001b[0;34m\u001b[0m\u001b[0m\n\u001b[0m\u001b[1;32m     17\u001b[0m         \u001b[0;31m#player_one_input =\u001b[0m\u001b[0;34m\u001b[0m\u001b[0;34m\u001b[0m\u001b[0m\n\u001b[1;32m     18\u001b[0m \u001b[0;34m\u001b[0m\u001b[0m\n",
      "\u001b[0;31mValueError\u001b[0m: invalid literal for int() with base 10: '(0,1)'"
     ]
    }
   ],
   "source": [
    "    \n",
    "board = [0, 1, 2,\n",
    "         3, 4, 5,\n",
    "         6, 7, 8,\n",
    "         ]\n",
    "\n",
    "def show_board():\n",
    "        print('_','|', '_', '|', '_')\n",
    "        print('_________')\n",
    "        print('_', '|', '_', '|','_')\n",
    "        print('_________')\n",
    "        print('_', '|', '_', '|','_')\n",
    "\n",
    "        while True:\n",
    "         \n",
    "            player_one_input =int(input(\"Select a location, using 0-8:  \")) \n",
    "            #player_one_input = \n",
    "            \n",
    "            \n",
    "            #break\n",
    "            #if player_one_input != 'X' or 'O':\n",
    "             #   board[player_one_input] = 'X'\n",
    "        \n",
    "            #else:\n",
    "             #   print(\"This spot is already taken.\")      \n",
    "    \n",
    "show_board()"
   ]
  },
  {
   "cell_type": "code",
   "execution_count": 25,
   "metadata": {
    "collapsed": false
   },
   "outputs": [
    {
     "data": {
      "text/plain": [
       "82.4"
      ]
     },
     "execution_count": 25,
     "metadata": {},
     "output_type": "execute_result"
    }
   ],
   "source": [
    "\n",
    "class Student:\n",
    "    def __init__(self, name):\n",
    "        self.name = name\n",
    "        self.attend = 0\n",
    "        self.grades = []\n",
    "        print(\"Hi, my name is {}\".format(self.name))\n",
    "    def add_grade(self, grade):\n",
    "        self.grades.append(grade)\n",
    "    def attend_day(self):\n",
    "        self.attend += 1\n",
    "    def get_average(self):\n",
    "        return sum(self.grades) / len(self.grades)\n",
    "        for x in range(1,11):\n",
    "            student_1.attend_day()\n",
    "student_1.add_grade(90)\n",
    "student_1.add_grade(100)\n",
    "student_1.add_grade(80)\n",
    "student_1.add_grade(92)\n",
    "student_1.add_grade(50)\n",
    "student_1.grades\n",
    "student_1.get_average()\n",
    "    \n",
    "\n"
   ]
  },
  {
   "cell_type": "code",
   "execution_count": 38,
   "metadata": {
    "collapsed": false
   },
   "outputs": [
    {
     "name": "stdout",
     "output_type": "stream",
     "text": [
      "Johnny has been born\n",
      "Mary has been born\n",
      "Mary is dying !\n",
      "Bill has been born\n",
      "Bill is dying !\n",
      "Johnny is 20 years old.\n",
      "1\n"
     ]
    }
   ],
   "source": [
    "class Person:\n",
    "    population = 0\n",
    "    def __init__(self, name, age):\n",
    "        self.name = name\n",
    "        self.age = age\n",
    "        print('{} has been born'.format(self.name))\n",
    "        Person.population += 1\n",
    "    def __str__(self):\n",
    "        return(\"{} is {} years old.\".format(self.name, self.age))\n",
    "    def __del__(self):\n",
    "        print(\"{} is dying !\".format(self.name))\n",
    "        Person.population -= 1\n",
    "    def total_population():\n",
    "        print(\"There are {} people in the world.\".format(Person.population))\n",
    "\n",
    "person_1 = Person(\"Johnny\", 20)\n",
    "person_2 = Person(\"Mary\", 26)\n",
    "person_3 = Person(\"Bill\", 34)\n",
    "print(person_1)\n",
    "\n",
    "print(Person.population)"
   ]
  },
  {
   "cell_type": "code",
   "execution_count": 58,
   "metadata": {
    "collapsed": false
   },
   "outputs": [
    {
     "ename": "TypeError",
     "evalue": "object.__init__() takes no parameters",
     "output_type": "error",
     "traceback": [
      "\u001b[0;31m---------------------------------------------------------------------------\u001b[0m",
      "\u001b[0;31mTypeError\u001b[0m                                 Traceback (most recent call last)",
      "\u001b[0;32m<ipython-input-58-41aed6fb8a71>\u001b[0m in \u001b[0;36m<module>\u001b[0;34m()\u001b[0m\n\u001b[1;32m     23\u001b[0m \u001b[0;34m\u001b[0m\u001b[0m\n\u001b[1;32m     24\u001b[0m \u001b[0;34m\u001b[0m\u001b[0m\n\u001b[0;32m---> 25\u001b[0;31m \u001b[0mm1\u001b[0m \u001b[0;34m=\u001b[0m \u001b[0mMilitary\u001b[0m\u001b[0;34m(\u001b[0m\u001b[0;34m\"Dan\"\u001b[0m\u001b[0;34m,\u001b[0m \u001b[0;36m40\u001b[0m\u001b[0;34m,\u001b[0m \u001b[0;34m\"General\"\u001b[0m\u001b[0;34m)\u001b[0m\u001b[0;34m\u001b[0m\u001b[0m\n\u001b[0m\u001b[1;32m     26\u001b[0m \u001b[0mprint\u001b[0m\u001b[0;34m(\u001b[0m\u001b[0mm1\u001b[0m\u001b[0;34m)\u001b[0m\u001b[0;34m\u001b[0m\u001b[0m\n",
      "\u001b[0;32m<ipython-input-58-41aed6fb8a71>\u001b[0m in \u001b[0;36m__init__\u001b[0;34m(self, name, age, rank)\u001b[0m\n\u001b[1;32m      7\u001b[0m \u001b[0;32mclass\u001b[0m \u001b[0mMilitary\u001b[0m\u001b[0;34m(\u001b[0m\u001b[0mPerson\u001b[0m\u001b[0;34m)\u001b[0m\u001b[0;34m:\u001b[0m\u001b[0;34m\u001b[0m\u001b[0m\n\u001b[1;32m      8\u001b[0m     \u001b[0;32mdef\u001b[0m \u001b[0m__init__\u001b[0m\u001b[0;34m(\u001b[0m\u001b[0mself\u001b[0m\u001b[0;34m,\u001b[0m \u001b[0mname\u001b[0m\u001b[0;34m,\u001b[0m \u001b[0mage\u001b[0m\u001b[0;34m,\u001b[0m \u001b[0mrank\u001b[0m\u001b[0;34m)\u001b[0m\u001b[0;34m:\u001b[0m\u001b[0;34m\u001b[0m\u001b[0m\n\u001b[0;32m----> 9\u001b[0;31m         \u001b[0mPerson\u001b[0m\u001b[0;34m.\u001b[0m\u001b[0m__init__\u001b[0m\u001b[0;34m(\u001b[0m\u001b[0mself\u001b[0m\u001b[0;34m,\u001b[0m \u001b[0mname\u001b[0m\u001b[0;34m,\u001b[0m \u001b[0mage\u001b[0m\u001b[0;34m)\u001b[0m\u001b[0;34m\u001b[0m\u001b[0m\n\u001b[0m\u001b[1;32m     10\u001b[0m         \u001b[0mself\u001b[0m\u001b[0;34m.\u001b[0m\u001b[0mrank\u001b[0m \u001b[0;34m=\u001b[0m \u001b[0mrank\u001b[0m\u001b[0;34m\u001b[0m\u001b[0m\n\u001b[1;32m     11\u001b[0m     \u001b[0;32mdef\u001b[0m \u001b[0m__str__\u001b[0m\u001b[0;34m(\u001b[0m\u001b[0mself\u001b[0m\u001b[0;34m)\u001b[0m\u001b[0;34m:\u001b[0m\u001b[0;34m\u001b[0m\u001b[0m\n",
      "\u001b[0;31mTypeError\u001b[0m: object.__init__() takes no parameters"
     ]
    }
   ],
   "source": [
    "class Person:\n",
    "    def __init_(self, name, age):\n",
    "        self.name = name\n",
    "        self.age = age\n",
    "    def __str__(self):\n",
    "        return(\"My name is {}. I am {} years old.\".format(self.name, self.age))\n",
    "class Military(Person):\n",
    "    def __init__(self, name, age, rank):\n",
    "        Person.__init__(self, name, age)\n",
    "        self.rank = rank\n",
    "    def __str__(self):\n",
    "        return Person.__str__(self) + \"I am a {}.\".format(self.rank)\n",
    "class Teacher(Person):\n",
    "    def __init__(self, name, age, sub):\n",
    "        Person.__init__(self, name, age)\n",
    "        self.sub = sub\n",
    "    def __str__(self):\n",
    "        return Person.__str__(self) + \"I teach {}.\".format(self.sub)\n",
    "class Student(Person):\n",
    "    def __init__(self, name, age, loans):\n",
    "        Person.__init__(self, name, age)\n",
    "        self.loans = loans\n",
    "         \n",
    "    \n",
    "m1 = Military(\"Dan\", 40, \"General\")\n",
    "print(m1)"
   ]
  },
  {
   "cell_type": "code",
   "execution_count": 67,
   "metadata": {
    "collapsed": false
   },
   "outputs": [
    {
     "name": "stdout",
     "output_type": "stream",
     "text": [
      "There Johnny has been born.\n",
      "There Travis has been born.\n"
     ]
    }
   ],
   "source": [
    "class Person:\n",
    "    def __init__(self, name, age):\n",
    "        self.name = name\n",
    "        self.age = age\n",
    "        print(\"There {} has been born.\".format(self.name))\n",
    "\n",
    "person = Person(\"Johnny\", 20)\n",
    "person_1 = Person(\"Travis\", 27)"
   ]
  },
  {
   "cell_type": "code",
   "execution_count": 86,
   "metadata": {
    "collapsed": false
   },
   "outputs": [
    {
     "name": "stdout",
     "output_type": "stream",
     "text": [
      "Hey, My name is John\n"
     ]
    },
    {
     "data": {
      "text/plain": [
       "[90]"
      ]
     },
     "execution_count": 86,
     "metadata": {},
     "output_type": "execute_result"
    }
   ],
   "source": [
    "class Student:\n",
    "    def __init__(self, name):\n",
    "        self.name = name\n",
    "        self.attend = 0\n",
    "        self.grades = []\n",
    "        print(\"Hey, My name is {}\".format(self.name))\n",
    "    def add_grade(self, grade):\n",
    "        self.grades.append(grade)\n",
    "    def attend_day(self):\n",
    "        self.attend += 1\n",
    "    def get_average(self):\n",
    "        return sum(self.grades) / len(self.grades)\n",
    "    \n",
    "student_1 = Student(\"John\")\n",
    "student_1.attend_day()\n",
    "student_1.attend\n",
    "student_1.add_grade(90)\n",
    "student_1.grades\n",
    "#for x in range(1,11):\n",
    " #   student_1.attend_day()\n",
    "#student_1.attend\n"
   ]
  },
  {
   "cell_type": "code",
   "execution_count": 105,
   "metadata": {
    "collapsed": false
   },
   "outputs": [
    {
     "name": "stdout",
     "output_type": "stream",
     "text": [
      "[0, 1, 2, 3, 4, 5, 6, 7, 8]\n",
      "0 | 1 | 2\n",
      "__________\n",
      "3 | 4 | 5\n",
      "__________\n",
      "6 | 7 | 8\n",
      "Select a spot: 0-8 7\n",
      "Select a spot: 0-8 0\n",
      "Select a spot: 0-8 0\n",
      "Select a spot: 0-8 0\n"
     ]
    },
    {
     "ename": "KeyboardInterrupt",
     "evalue": "",
     "output_type": "error",
     "traceback": [
      "\u001b[0;31m---------------------------------------------------------------------------\u001b[0m",
      "\u001b[0;31mKeyboardInterrupt\u001b[0m                         Traceback (most recent call last)",
      "\u001b[0;32m/Users/pnitto/iron_yard/vectors-and-matrices/.direnv/python-3.4.3/lib/python3.4/site-packages/IPython/kernel/zmq/kernelbase.py\u001b[0m in \u001b[0;36m_input_request\u001b[0;34m(self, prompt, ident, parent, password)\u001b[0m\n\u001b[1;32m    675\u001b[0m             \u001b[0;32mtry\u001b[0m\u001b[0;34m:\u001b[0m\u001b[0;34m\u001b[0m\u001b[0m\n\u001b[0;32m--> 676\u001b[0;31m                 \u001b[0mident\u001b[0m\u001b[0;34m,\u001b[0m \u001b[0mreply\u001b[0m \u001b[0;34m=\u001b[0m \u001b[0mself\u001b[0m\u001b[0;34m.\u001b[0m\u001b[0msession\u001b[0m\u001b[0;34m.\u001b[0m\u001b[0mrecv\u001b[0m\u001b[0;34m(\u001b[0m\u001b[0mself\u001b[0m\u001b[0;34m.\u001b[0m\u001b[0mstdin_socket\u001b[0m\u001b[0;34m,\u001b[0m \u001b[0;36m0\u001b[0m\u001b[0;34m)\u001b[0m\u001b[0;34m\u001b[0m\u001b[0m\n\u001b[0m\u001b[1;32m    677\u001b[0m             \u001b[0;32mexcept\u001b[0m \u001b[0mException\u001b[0m\u001b[0;34m:\u001b[0m\u001b[0;34m\u001b[0m\u001b[0m\n",
      "\u001b[0;32m/Users/pnitto/iron_yard/vectors-and-matrices/.direnv/python-3.4.3/lib/python3.4/site-packages/IPython/kernel/zmq/session.py\u001b[0m in \u001b[0;36mrecv\u001b[0;34m(self, socket, mode, content, copy)\u001b[0m\n\u001b[1;32m    718\u001b[0m         \u001b[0;32mtry\u001b[0m\u001b[0;34m:\u001b[0m\u001b[0;34m\u001b[0m\u001b[0m\n\u001b[0;32m--> 719\u001b[0;31m             \u001b[0mmsg_list\u001b[0m \u001b[0;34m=\u001b[0m \u001b[0msocket\u001b[0m\u001b[0;34m.\u001b[0m\u001b[0mrecv_multipart\u001b[0m\u001b[0;34m(\u001b[0m\u001b[0mmode\u001b[0m\u001b[0;34m,\u001b[0m \u001b[0mcopy\u001b[0m\u001b[0;34m=\u001b[0m\u001b[0mcopy\u001b[0m\u001b[0;34m)\u001b[0m\u001b[0;34m\u001b[0m\u001b[0m\n\u001b[0m\u001b[1;32m    720\u001b[0m         \u001b[0;32mexcept\u001b[0m \u001b[0mzmq\u001b[0m\u001b[0;34m.\u001b[0m\u001b[0mZMQError\u001b[0m \u001b[0;32mas\u001b[0m \u001b[0me\u001b[0m\u001b[0;34m:\u001b[0m\u001b[0;34m\u001b[0m\u001b[0m\n",
      "\u001b[0;32m/Users/pnitto/iron_yard/vectors-and-matrices/.direnv/python-3.4.3/lib/python3.4/site-packages/zmq/sugar/socket.py\u001b[0m in \u001b[0;36mrecv_multipart\u001b[0;34m(self, flags, copy, track)\u001b[0m\n\u001b[1;32m    339\u001b[0m         \"\"\"\n\u001b[0;32m--> 340\u001b[0;31m         \u001b[0mparts\u001b[0m \u001b[0;34m=\u001b[0m \u001b[0;34m[\u001b[0m\u001b[0mself\u001b[0m\u001b[0;34m.\u001b[0m\u001b[0mrecv\u001b[0m\u001b[0;34m(\u001b[0m\u001b[0mflags\u001b[0m\u001b[0;34m,\u001b[0m \u001b[0mcopy\u001b[0m\u001b[0;34m=\u001b[0m\u001b[0mcopy\u001b[0m\u001b[0;34m,\u001b[0m \u001b[0mtrack\u001b[0m\u001b[0;34m=\u001b[0m\u001b[0mtrack\u001b[0m\u001b[0;34m)\u001b[0m\u001b[0;34m]\u001b[0m\u001b[0;34m\u001b[0m\u001b[0m\n\u001b[0m\u001b[1;32m    341\u001b[0m         \u001b[0;31m# have first part already, only loop while more to receive\u001b[0m\u001b[0;34m\u001b[0m\u001b[0;34m\u001b[0m\u001b[0m\n",
      "\u001b[0;32mzmq/backend/cython/socket.pyx\u001b[0m in \u001b[0;36mzmq.backend.cython.socket.Socket.recv (zmq/backend/cython/socket.c:5785)\u001b[0;34m()\u001b[0m\n",
      "\u001b[0;32mzmq/backend/cython/socket.pyx\u001b[0m in \u001b[0;36mzmq.backend.cython.socket.Socket.recv (zmq/backend/cython/socket.c:5585)\u001b[0;34m()\u001b[0m\n",
      "\u001b[0;32mzmq/backend/cython/socket.pyx\u001b[0m in \u001b[0;36mzmq.backend.cython.socket._recv_copy (zmq/backend/cython/socket.c:1738)\u001b[0;34m()\u001b[0m\n",
      "\u001b[0;32m/Users/pnitto/iron_yard/vectors-and-matrices/.direnv/python-3.4.3/lib/python3.4/site-packages/zmq/backend/cython/checkrc.pxd\u001b[0m in \u001b[0;36mzmq.backend.cython.checkrc._check_rc (zmq/backend/cython/socket.c:6035)\u001b[0;34m()\u001b[0m\n\u001b[1;32m     10\u001b[0m     \u001b[0mcdef\u001b[0m \u001b[0mint\u001b[0m \u001b[0merrno\u001b[0m \u001b[0;34m=\u001b[0m \u001b[0mzmq_errno\u001b[0m\u001b[0;34m(\u001b[0m\u001b[0;34m)\u001b[0m\u001b[0;34m\u001b[0m\u001b[0m\n\u001b[0;32m---> 11\u001b[0;31m     \u001b[0mPyErr_CheckSignals\u001b[0m\u001b[0;34m(\u001b[0m\u001b[0;34m)\u001b[0m\u001b[0;34m\u001b[0m\u001b[0m\n\u001b[0m\u001b[1;32m     12\u001b[0m     \u001b[0;32mif\u001b[0m \u001b[0mrc\u001b[0m \u001b[0;34m<\u001b[0m \u001b[0;36m0\u001b[0m\u001b[0;34m:\u001b[0m\u001b[0;34m\u001b[0m\u001b[0m\n",
      "\u001b[0;31mKeyboardInterrupt\u001b[0m: ",
      "\nDuring handling of the above exception, another exception occurred:\n",
      "\u001b[0;31mKeyboardInterrupt\u001b[0m                         Traceback (most recent call last)",
      "\u001b[0;32m<ipython-input-105-21403552ecbd>\u001b[0m in \u001b[0;36m<module>\u001b[0;34m()\u001b[0m\n\u001b[1;32m     13\u001b[0m \u001b[0;34m\u001b[0m\u001b[0m\n\u001b[1;32m     14\u001b[0m \u001b[0;32mwhile\u001b[0m \u001b[0;32mTrue\u001b[0m\u001b[0;34m:\u001b[0m\u001b[0;34m\u001b[0m\u001b[0m\n\u001b[0;32m---> 15\u001b[0;31m     \u001b[0muser_input\u001b[0m \u001b[0;34m=\u001b[0m \u001b[0minput\u001b[0m\u001b[0;34m(\u001b[0m\u001b[0;34m\"Select a spot: 0-8 \"\u001b[0m\u001b[0;34m)\u001b[0m\u001b[0;34m\u001b[0m\u001b[0m\n\u001b[0m\u001b[1;32m     16\u001b[0m     \u001b[0muser_input\u001b[0m \u001b[0;34m=\u001b[0m \u001b[0mint\u001b[0m\u001b[0;34m(\u001b[0m\u001b[0muser_input\u001b[0m\u001b[0;34m)\u001b[0m\u001b[0;34m\u001b[0m\u001b[0m\n\u001b[1;32m     17\u001b[0m     \u001b[0;32mif\u001b[0m \u001b[0mboard\u001b[0m\u001b[0;34m[\u001b[0m\u001b[0muser_input\u001b[0m\u001b[0;34m]\u001b[0m \u001b[0;34m!=\u001b[0m \u001b[0;34m'X'\u001b[0m \u001b[0;32mand\u001b[0m \u001b[0mboard\u001b[0m\u001b[0;34m[\u001b[0m\u001b[0muser_input\u001b[0m\u001b[0;34m]\u001b[0m \u001b[0;34m!=\u001b[0m \u001b[0;34m'O'\u001b[0m\u001b[0;34m:\u001b[0m\u001b[0;34m\u001b[0m\u001b[0m\n",
      "\u001b[0;32m/Users/pnitto/iron_yard/vectors-and-matrices/.direnv/python-3.4.3/lib/python3.4/site-packages/IPython/kernel/zmq/kernelbase.py\u001b[0m in \u001b[0;36mraw_input\u001b[0;34m(self, prompt)\u001b[0m\n\u001b[1;32m    649\u001b[0m             \u001b[0mself\u001b[0m\u001b[0;34m.\u001b[0m\u001b[0m_parent_ident\u001b[0m\u001b[0;34m,\u001b[0m\u001b[0;34m\u001b[0m\u001b[0m\n\u001b[1;32m    650\u001b[0m             \u001b[0mself\u001b[0m\u001b[0;34m.\u001b[0m\u001b[0m_parent_header\u001b[0m\u001b[0;34m,\u001b[0m\u001b[0;34m\u001b[0m\u001b[0m\n\u001b[0;32m--> 651\u001b[0;31m             \u001b[0mpassword\u001b[0m\u001b[0;34m=\u001b[0m\u001b[0;32mFalse\u001b[0m\u001b[0;34m,\u001b[0m\u001b[0;34m\u001b[0m\u001b[0m\n\u001b[0m\u001b[1;32m    652\u001b[0m         )\n\u001b[1;32m    653\u001b[0m \u001b[0;34m\u001b[0m\u001b[0m\n",
      "\u001b[0;32m/Users/pnitto/iron_yard/vectors-and-matrices/.direnv/python-3.4.3/lib/python3.4/site-packages/IPython/kernel/zmq/kernelbase.py\u001b[0m in \u001b[0;36m_input_request\u001b[0;34m(self, prompt, ident, parent, password)\u001b[0m\n\u001b[1;32m    679\u001b[0m             \u001b[0;32mexcept\u001b[0m \u001b[0mKeyboardInterrupt\u001b[0m\u001b[0;34m:\u001b[0m\u001b[0;34m\u001b[0m\u001b[0m\n\u001b[1;32m    680\u001b[0m                 \u001b[0;31m# re-raise KeyboardInterrupt, to truncate traceback\u001b[0m\u001b[0;34m\u001b[0m\u001b[0;34m\u001b[0m\u001b[0m\n\u001b[0;32m--> 681\u001b[0;31m                 \u001b[0;32mraise\u001b[0m \u001b[0mKeyboardInterrupt\u001b[0m\u001b[0;34m\u001b[0m\u001b[0m\n\u001b[0m\u001b[1;32m    682\u001b[0m             \u001b[0;32melse\u001b[0m\u001b[0;34m:\u001b[0m\u001b[0;34m\u001b[0m\u001b[0m\n\u001b[1;32m    683\u001b[0m                 \u001b[0;32mbreak\u001b[0m\u001b[0;34m\u001b[0m\u001b[0m\n",
      "\u001b[0;31mKeyboardInterrupt\u001b[0m: "
     ]
    }
   ],
   "source": [
    "board = [0, 1, 2,\n",
    "        3, 4, 5,\n",
    "        6, 7, 8]\n",
    "\n",
    "def show():\n",
    "    print(board[0], '|', board[1], '|', board[2])\n",
    "    print('__________')\n",
    "    print(board[3], '|', board[4], '|', board[5])\n",
    "    print('__________')\n",
    "    print(board[6], '|', board[7], '|', board[8])\n",
    "print(board)\n",
    "show()\n",
    "\n",
    "while True:\n",
    "    user_input = input(\"Select a spot: 0-8 \")\n",
    "    user_input = int(user_input)\n",
    "    if board[user_input] != 'X' and board[user_input] != 'O':\n",
    "        board[user_input] == 'X'\n",
    "    else:\n",
    "        print(\"This spot is taken\")\n",
    "        break\n",
    "    "
   ]
  },
  {
   "cell_type": "code",
   "execution_count": 106,
   "metadata": {
    "collapsed": false
   },
   "outputs": [
    {
     "name": "stdout",
     "output_type": "stream",
     "text": [
      "Happy Birthday to you\n",
      "I don't want to get sued\n",
      "So I'll stop right there\n",
      "They rally aroun that family,\n",
      "With pockets of cheese\n"
     ]
    }
   ],
   "source": [
    "class Song():\n",
    "    def __init__(self, lyrics):\n",
    "        self.lyrics = lyrics\n",
    "    def sing_me_a_song(self):\n",
    "        for line in self.lyrics:\n",
    "            print(line)\n",
    "happy_bday = Song([\"Happy Birthday to you\",\n",
    "                  \"I don't want to get sued\",\n",
    "                  \"So I'll stop right there\"])\n",
    "bulls_on_parade = Song([\"They rally aroun that family,\",\n",
    "                       \"With pockets of cheese\"])\n",
    "happy_bday.sing_me_a_song()\n",
    "bulls_on_parade.sing_me_a_song()"
   ]
  },
  {
   "cell_type": "code",
   "execution_count": 113,
   "metadata": {
    "collapsed": false
   },
   "outputs": [
    {
     "name": "stdout",
     "output_type": "stream",
     "text": [
      "253\n"
     ]
    }
   ],
   "source": [
    "def arithmetic_mean(*args):\n",
    "    hun = 0\n",
    "    for x in args:\n",
    "        hun += x\n",
    "    return hun\n",
    "print(arithmetic_mean(45,54,67,87))"
   ]
  },
  {
   "cell_type": "code",
   "execution_count": 115,
   "metadata": {
    "collapsed": false
   },
   "outputs": [
    {
     "name": "stdout",
     "output_type": "stream",
     "text": [
      "73 33 1060 3209\n"
     ]
    }
   ],
   "source": [
    "def simple_math(num1, num2):\n",
    "    addition = num1 + num2\n",
    "    subtraction = num2 - num1\n",
    "    multiplication = num2 * num1\n",
    "    squared_sum = num2**2 + num1**2\n",
    "    print(addition,subtraction,multiplication, squared_sum)\n",
    "simple_math(20, 53)\n"
   ]
  },
  {
   "cell_type": "code",
   "execution_count": 118,
   "metadata": {
    "collapsed": false
   },
   "outputs": [
    {
     "name": "stdout",
     "output_type": "stream",
     "text": [
      "6\n",
      "15\n",
      "-824\n"
     ]
    }
   ],
   "source": [
    "class Calculator:\n",
    "    def addition(self, x):\n",
    "        added = self + x\n",
    "        print(added)\n",
    "    def subtraction(self, x):\n",
    "        subtraction = x - self\n",
    "        print(subtraction)\n",
    "    def multiplication(self, y):\n",
    "        multiplication = self * y\n",
    "        print(multiplication)\n",
    "    def division(self, x):\n",
    "        division = self / y\n",
    "        print(division)\n",
    "        \n",
    "Calculator.multiplication(3,2)\n",
    "Calculator.addition(7,8)\n",
    "Calculator.subtraction(902,78)"
   ]
  },
  {
   "cell_type": "code",
   "execution_count": 156,
   "metadata": {
    "collapsed": false
   },
   "outputs": [
    {
     "name": "stdout",
     "output_type": "stream",
     "text": [
      "True\n",
      "False\n",
      "[(0.2385062540165469, -0.2644266882866044), (0.31103873108964863, 0.4272672612319566), (0.22697459539887477, 0.19182685845569158), (0.05234478335755477, -0.14202430403956012), (0.2722322713809928, 0.20612440330225534), (-0.2992508074451905, -0.1501336078934591), (0.09373136250934888, 0.49775438893435375), (0.1882821880334854, 0.3571076337465612), (-0.25532444001875876, 0.34479286776063456), (0.2635008040273835, -0.4399112858119223), (0.07966140295499047, 0.41735657596996933), (0.09405380914545014, -0.4213612100600309), (-0.09882532198404903, -0.13651755256405262), (0.3268172416055257, -0.4276237883142895), (0.3412449953711775, -0.04002782434467922), (0.30024465754428664, 0.36989720805683557), (-0.32641561258935015, -0.1401116341202695), (0.22138664244458062, -0.24950151185976766), (-0.1563395301929683, -0.4041995492037366), (0.37428669472877374, -0.07857649456254123), (-0.3919283068268069, -0.11788550132905107), (-0.47065151050647436, 0.22824157058436267), (0.10572690717567734, 0.21557029948300377), (0.3358921344221012, 0.31421358227546625), (0.3717725610894945, -0.12458804373664112), (0.019729905031330763, 0.4492594710073148), (-0.031101109771288882, 0.43516541663479624), (0.4417552004637708, -0.21626281308606665), (-0.44721606197884856, 0.20378485262757584), (-0.43849250478611534, 0.29699431630144213), (-0.16160211231964583, -0.14181444705946977), (-0.3769399837180448, 0.023366830414894735), (-0.4602183540912269, 0.29464345108034506), (-0.16673907893713946, -0.48866040820603607), (0.43474555494500666, 0.2596082915879584), (0.16816839966965813, 0.031952000882878306), (-0.03994638025514474, -0.2084219314392931), (-0.020374623310580153, 0.27769374889546194), (-0.15842152302907286, -0.45202006225620717), (0.22910049415015854, -0.39487254441163544), (0.20655728042075872, 0.2603363040729132), (-0.19271053938666582, -0.054315507017272946), (-0.1132665585519469, -0.2963751080370015), (0.22434029086526852, -0.004184963009485343), (-0.35375218688610244, 0.3614685030411555), (0.259057944520555, -0.25850590079482205), (0.12895270233728962, -0.2585382195401934), (-0.23524053583688764, -0.4339938787905673), (0.17517508426714745, -0.3974114558345363), (0.04311493855511539, 0.29122801653593666), (0.16660528723219126, -0.04967227182985268), (0.2655811704891873, 0.41505088111756283), (0.18697322018899232, -0.13745244694806102), (-0.09919504405630164, -0.06441255483104547), (-0.28847891709305573, 0.16134972527599045), (0.13066299579829066, 0.008231570452593928), (0.19458720978712885, 0.292635752186465), (0.23552895670980378, 0.20268460712500747), (-0.19237874443049563, 0.433432476574258), (-0.15585977208634094, -0.43042291672990074), (-0.24980660629493878, 0.4435650123570666), (0.021707621214252515, 0.16979336938278977), (0.36910298555801024, -0.4548522510754881), (0.39630765676152524, 0.49616472971279224), (0.21429486468592507, -0.39618847054804607), (-0.23030186425147092, 0.20623321151664054), (-0.436923811507535, -0.012482735915232412), (0.35670943723026294, -0.20407937211590543), (-0.2210039665831749, 0.05338049089439112), (-0.10224790800294281, 0.1393903522125075), (0.36074219314935496, -0.047136442098960396), (-0.0018280811303569289, -0.2425290176552386), (-0.19021713370896154, 0.20471586036309508), (-0.0027396117594047364, 0.49105653596217125), (-0.04761927080716777, 0.4014162376240946), (0.01977703846296086, -0.4807304780395335), (0.3681013623523368, 0.488693925699925), (-0.2151452281099967, -0.46585861849189747), (-0.22276180805626133, 0.06854492051659145), (0.4157923795367472, -0.2149926061023203), (0.025777149792274967, -0.034923999464399835), (-0.43994361399977155, 0.34505428960974116), (-0.23062980068600536, -0.3951721005568606), (-0.45747003931338515, -0.39743609442493855), (0.16955121929717976, 0.4899755960656892), (0.07234215517471554, -0.20724716736217097), (0.25143702706040116, -0.381043002074104), (-0.06134503532892177, 0.4017047767933847), (-0.4134553381917129, -0.4125374621260548), (0.23180878463353582, -0.4428354556361731), (-0.0026714289200988617, 0.49648502615668777), (0.10540768806043599, 0.17916886106649044), (-0.4787273943030669, -0.13620810485019463), (-0.22895607612294744, 0.13201336567788668), (0.14971964962606832, -0.05928434884039058), (0.41177538847372075, -0.4714586063518287), (-0.2705172444076528, 0.29926383599908346), (-0.1823256364484107, -0.33108307399597037), (0.3510409308667979, -0.1650304408431449), (-0.11248680563460323, -0.474376616190614), (0.15152754934314328, 0.4540040183302875), (-0.38568089524695737, 0.04204676817150843), (0.13832704039070354, -0.3259852325712742), (0.4036778552110881, -0.20268977544943245), (0.434002857470112, 0.07692316909230157), (0.23065876810671793, 0.45213072542834676), (-0.14159160537736337, -0.021608200379202636), (-0.11912397776117745, 0.19568631873674358), (0.41046230854544297, -0.0076209818634656035), (0.06089528349764162, -0.27264924364092324), (-0.28884272562647106, 0.1555924446059792), (-0.17461335746398066, -0.21693538395352074), (-0.2604984668849879, -0.11184433507545033), (0.463463813139552, -0.00227028457053724), (0.09704883495734118, 0.002895628024478958), (-0.19076228555404173, 0.022890321865730034), (-0.33744701100539476, -0.29253011868172984), (0.009613372360947392, -0.21008386807809365), (-0.01962303871560034, 0.3203689341371565), (0.2655084579282775, -0.23397651781208517), (-0.4269846824719217, 0.46512077860533074), (-0.06308843237386386, -0.40210035859881166), (0.31578970448448285, 0.116753925003233), (0.1206488563213266, 0.3166529773015444), (-0.365915773246572, -0.40239256253889055), (-0.18542273063369763, 0.32640486443479577), (-0.12499549259962883, -0.38101287112152027), (-0.181878739747251, -0.1864577349581611), (0.42170810867798914, -0.15005627288106826), (0.4828808684853316, -0.23122472288290996), (-0.47902057661620157, -0.09857450201281492), (0.11979744221222366, -0.2660929904054775), (-0.453093603193474, -0.49837486417719246), (0.15990774696392884, -0.37881541764453397), (-0.1757978716880575, -0.21223439980680137), (0.4437205049316034, -0.40405860064774857), (0.29459968790416124, -0.25913818693443147), (0.1539702515813398, -0.19405579760161884), (0.16372402886650472, -0.4071291930935116), (-0.14254344088090976, -0.006649926469988854), (0.32136536794365667, 0.2819941597759129), (0.13764246496711519, 0.46432168719288325), (0.23068449661816648, 0.2148012375067171), (0.49302301883096855, -0.34937491811732957), (-0.35799765423094676, 0.4645031556512633), (0.16772995592762585, -0.3013132454018509), (0.26535762526991236, -0.37064395974404185), (0.12900763501931567, 0.41575791632534775), (-0.44175165279997464, -0.1450949745145791), (0.34318230316310583, 0.4630921203904119), (-0.47986770042890536, 0.3186124871130066), (0.37259609232948965, 0.1647496632191372), (-0.403502154424902, -0.3341915756662829), (-0.3204426202004139, -0.31551911251905973), (0.24703225099402792, -0.2994871421353956), (-0.04306989439354625, -0.30169295483232694), (-0.4406331882101281, -0.14130659411475155), (-0.3800479214381792, 0.3275896284212406), (0.008316738664280066, -0.11780691341272675), (0.30420240000437004, -0.07897766444071241), (-0.3403240059052236, 0.46481312631421434), (-0.1560380691341271, 0.15459485117744065), (-0.08286132749436592, 0.4145781172538755), (-0.09225528538738614, 0.05695388918251265), (0.09852865622571916, 0.07774452223657702), (-0.3663881261628147, 0.2851191114516771), (0.39772705027290944, 0.23436913986086005), (0.15758555734216828, 0.25370522447956834), (-0.3872795444687779, -0.37592338936537695), (-0.4024424318512081, -0.20456734275878985), (0.41110808306447977, 0.33288060694321375), (-0.03349177918730717, 0.1749263128944658), (0.43242890315039795, 0.3763962320974936), (0.03295129933227681, -0.08518053451336127), (0.4472544676698539, 0.22432406575776342), (0.188393392195372, 0.363318904599509), (-0.26412339440498833, 0.19007319187032468), (0.03933220442056906, 0.4106604863069959), (0.25684904770844563, -0.412736125876606), (0.25815107594861064, -0.08809483447972932), (0.3013630050373901, 0.06169033689931436), (-0.2993045329133115, 0.15578766355744222), (0.20564434668864118, 0.44185655546492353), (-0.42178457065421193, -0.19991469020018982), (-0.0012345303879869318, -0.04067949097714596), (-0.17748310800982203, 0.0029917777132039136), (-0.13033957800138873, 0.14048201720537834), (0.05889130429343914, 0.4497628281634233), (0.031339202555004664, 0.06509407302917425), (-0.048432090762036806, 0.29901563830590017), (-0.03742056740497002, -0.05198945921766085), (-0.09535231659351462, 0.40176156219571835), (0.30266331901852506, 0.03337546013786885), (-0.012716836863906011, -0.2099261121112923), (-0.42838052587371345, -0.4590799637118078), (-0.30327172892751453, 0.4584268768097326), (-0.28652021427392005, 0.08763102480526752), (-0.12541867335328793, 0.1719438423091102), (-0.11021523011582812, -0.19518285563840654), (-0.2873306896811819, 0.17967829992391504)]\n",
      "[True, False, True, True, True, True, False, True, True, False, True, True, True, False, True, True, True, True, True, True, True, False, True, True, True, True, True, True, True, False, True, True, False, False, False, True, True, True, True, True, True, True, True, True, False, True, True, True, True, True, True, True, True, True, True, True, True, True, True, True, False, True, False, False, True, True, True, True, True, True, True, True, True, True, True, True, False, False, True, True, True, False, True, False, False, True, True, True, False, True, True, True, True, True, True, False, True, True, True, True, True, True, True, True, True, False, True, True, True, True, True, True, True, True, True, True, True, True, True, True, False, True, True, True, False, True, True, True, True, False, True, True, False, True, True, False, True, True, True, True, True, True, True, False, False, True, True, True, True, False, False, True, False, True, True, True, True, False, True, True, False, True, True, True, True, True, True, True, False, True, False, True, False, True, False, True, True, True, True, True, True, True, True, True, True, True, True, True, True, True, True, True, True, True, False, False, True, True, True, True]\n",
      "161\n"
     ]
    }
   ],
   "source": [
    " import random\n",
    "sample = [(random.uniform(-.5, .5), random.uniform(-.5, .5)) for _ in range(200)]\n",
    "results = [in_circle(x, y, .5) for x, y in sample]\n",
    "results = list(map(in_circle, sample))\n",
    "def in_circle(x, y, r):\n",
    "    \n",
    "    return (x * x + y * y) < r*r\n",
    "   \n",
    "\n",
    "first_sample = in_circle(.2,-.3, .5)\n",
    "#print(first_sample)\n",
    "second_sample = in_circle(-.5, -.1, .5)\n",
    "#print(second_sample)\n",
    "#print(sample)\n",
    "#print(results)\n",
    "m = len(results)\n",
    "n = results.count(True)\n",
    "print(n/m *4)"
   ]
  },
  {
   "cell_type": "code",
   "execution_count": null,
   "metadata": {
    "collapsed": true
   },
   "outputs": [],
   "source": [
    "#def flip_a_coin():\n",
    "#    coin_list = ['heads', 'tails']\n",
    "#   random_flip = random.choice(coin_list)\n",
    "#print(random_flip)\n",
    " print('hello')\n",
    "    \n"
   ]
  },
  {
   "cell_type": "code",
   "execution_count": null,
   "metadata": {
    "collapsed": true
   },
   "outputs": [],
   "source": [
    "from bokeh.plotting import figure, show, output_notebook\n",
    "from bokeh.charts"
   ]
  },
  {
   "cell_type": "code",
   "execution_count": null,
   "metadata": {
    "collapsed": true
   },
   "outputs": [],
   "source": [
    "print('hello')\n",
    "\n"
   ]
  },
  {
   "cell_type": "code",
   "execution_count": null,
   "metadata": {
    "collapsed": true
   },
   "outputs": [],
   "source": []
  },
  {
   "cell_type": "code",
   "execution_count": null,
   "metadata": {
    "collapsed": true
   },
   "outputs": [],
   "source": []
  }
 ],
 "metadata": {
  "kernelspec": {
   "display_name": "Python 3",
   "language": "python",
   "name": "python3"
  },
  "language_info": {
   "codemirror_mode": {
    "name": "ipython",
    "version": 3
   },
   "file_extension": ".py",
   "mimetype": "text/x-python",
   "name": "python",
   "nbconvert_exporter": "python",
   "pygments_lexer": "ipython3",
   "version": "3.4.3"
  }
 },
 "nbformat": 4,
 "nbformat_minor": 0
}
