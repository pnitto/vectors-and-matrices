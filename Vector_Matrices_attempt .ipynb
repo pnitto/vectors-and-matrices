{
 "cells": [
  {
   "cell_type": "code",
   "execution_count": 94,
   "metadata": {},
   "outputs": [],
   "source": [
    "import math\n",
    "\n",
    "class ShapeException(Exception):\n",
    "    pass\n",
    "\n",
    "\n",
    "def dot(input_1, input_2):\n",
    "    n = 0\n",
    "    m = 0\n",
    "    for i in input_1:\n",
    "        n += i * input_2[1]\n",
    "        m += m\n",
    "    return dot\n",
    "    \n",
    "\n",
    "\n",
    "\n",
    "def magnitude(a,b):\n",
    "    c = 0\n",
    "    for item in a:\n",
    "        c = sqrt(a * b)\n",
    "    \n",
    "\n",
    "\n",
    "\n",
    "def shape(arg_1):\n",
    "    \n",
    "    pass\n",
    "\n",
    "\n",
    "def vector_add(m,v):\n",
    "    w = []\n",
    "    for i in range(len(m)):\n",
    "        w[i] = m[i] + v[i]\n",
    "#print(w)\n",
    "    return vector_add\n",
    "\n",
    "\n",
    "def vector_sub(a,b):\n",
    "    c = []\n",
    "    for i in range(len(a)):\n",
    "        c[i] = a[i] - b[i]\n",
    "    return vector_sub\n",
    "#print(c)\n",
    "    \n",
    "\n",
    "\n",
    "def vector_sum():\n",
    "    for i in enumerate():\n",
    "    pass\n",
    "\n",
    "\n",
    "def vector_multiply(a, b):\n",
    "    c = []\n",
    "    for index, value in enumerate(a):\n",
    "        c = a[i] * b[i]\n",
    "    return vector_multiply\n",
    "\n",
    "\n",
    "\n",
    "def vector_mean(a, b):\n",
    "    c = []\n",
    "    [a / b for] index, value in enumerate(a)\n",
    "    #Not really sure\n",
    "\n",
    "    pass\n",
    "\n",
    "\n",
    "def matrix_row():\n",
    "    pass\n",
    "\n",
    "\n",
    "def matrix_col():\n",
    "    pass\n",
    "\n",
    "\n",
    "def matrix_scalar_multiply():\n",
    "    pass\n",
    "\n",
    "\n",
    "def matrix_vector_multiply():\n",
    "    pass\n",
    "\n",
    "\n",
    "def matrix_matrix_multiply():\n",
    "    result = []\n",
    "    for i in range(len(X)):\n",
    "        for k in range(len(Y[0])):\n",
    "            for h in range(len(Y)):\n",
    "                result[i][k] += X[i][h] * Y[h][k]\n",
    "    for r in result:\n",
    "        return(r)"
   ]
  },
  {
   "cell_type": "code",
   "execution_count": 86,
   "metadata": {},
   "outputs": [],
   "source": [
    "def magnitude(a,b):\n",
    "    for item in a:\n",
    "        c = sqrt(a) * b\n",
    "    print(c)"
   ]
  },
  {
   "cell_type": "code",
   "execution_count": 95,
   "metadata": {},
   "outputs": [
    {
     "name": "stdout",
     "output_type": "stream",
     "text": [
      "[(0, 1), (1, 2), (2, 3)]\n"
     ]
    }
   ],
   "source": [
    "x = [1, 2, 3]\n",
    "x = enumerate(x)\n",
    "print(list(x))"
   ]
  },
  {
   "cell_type": "code",
   "execution_count": 98,
   "metadata": {},
   "outputs": [
    {
     "name": "stdout",
     "output_type": "stream",
     "text": [
      "('a', 4)\n",
      "a\n",
      "4\n"
     ]
    }
   ],
   "source": [
    "w = (\"a\", 4)\n",
    "print(w)\n",
    "value_one, value_two = [\"a\", 4]\n",
    "\n",
    "\n",
    "print(value_one)\n",
    "print(value_two)"
   ]
  },
  {
   "cell_type": "code",
   "execution_count": 102,
   "metadata": {},
   "outputs": [
    {
     "name": "stdout",
     "output_type": "stream",
     "text": [
      "('a', '4', 4)\n",
      "{'person': [1, 2, 34]}\n"
     ]
    }
   ],
   "source": [
    "def function_one(*args, **kwargs):\n",
    "    print(args)\n",
    "    print(kwargs)\n",
    "    \n",
    "(function_one(lambda x: x -4\"a\", \"4\", 4, person=[1,2,34]))"
   ]
  },
  {
   "cell_type": "code",
   "execution_count": 113,
   "metadata": {},
   "outputs": [],
   "source": [
    "class Bike:\n",
    "    speed = 0\n",
    "    moving = False\n",
    "    location = 0\n",
    "    top_speed = 14\n",
    "    \n",
    "    def accelerate(self):\n",
    "        pass\n",
    "\n",
    "    def start(self):\n",
    "        pass\n",
    "    \n",
    "    def stop(self):\n",
    "        pass\n",
    "    \n",
    "    def update(self):\n",
    "        pass \n",
    "\n",
    "\n",
    "class Race:\n",
    "    start = 0\n",
    "    finish = 100\n",
    "    locations = []\n",
    "    active = False\n",
    "    \n",
    "    def start(self):\n",
    "        pass\n",
    "    def stop(self):\n",
    "        pass"
   ]
  },
  {
   "cell_type": "code",
   "execution_count": 112,
   "metadata": {},
   "outputs": [
    {
     "ename": "NameError",
     "evalue": "name 'Bike' is not defined",
     "output_type": "error",
     "traceback": [
      "\u001b[0;31m---------------------------------------------------------------------------\u001b[0m",
      "\u001b[0;31mNameError\u001b[0m                                 Traceback (most recent call last)",
      "\u001b[0;32m<ipython-input-112-6b886868382f>\u001b[0m in \u001b[0;36m<module>\u001b[0;34m()\u001b[0m\n\u001b[0;32m----> 1\u001b[0;31m \u001b[0mbike\u001b[0m \u001b[0;34m=\u001b[0m \u001b[0mBike\u001b[0m\u001b[0;34m(\u001b[0m\u001b[0;34m)\u001b[0m\u001b[0;34m\u001b[0m\u001b[0m\n\u001b[0m\u001b[1;32m      2\u001b[0m \u001b[0mprint\u001b[0m\u001b[0;34m(\u001b[0m\u001b[0mbike\u001b[0m\u001b[0;34m.\u001b[0m\u001b[0mmoving\u001b[0m\u001b[0;34m)\u001b[0m\u001b[0;34m\u001b[0m\u001b[0m\n",
      "\u001b[0;31mNameError\u001b[0m: name 'Bike' is not defined"
     ]
    }
   ],
   "source": [
    "aaabike = Bike()\n",
    "print(bike.moving)"
   ]
  },
  {
   "cell_type": "code",
   "execution_count": null,
   "metadata": {},
   "outputs": [],
   "source": [
    ""
   ]
  }
 ],
 "metadata": {
  "kernelspec": {
   "display_name": "Python 3",
   "language": "python",
   "name": "python3"
  },
  "language_info": {
   "codemirror_mode": {
    "name": "ipython",
    "version": 3.0
   },
   "file_extension": ".py",
   "mimetype": "text/x-python",
   "name": "python",
   "nbconvert_exporter": "python",
   "pygments_lexer": "ipython3",
   "version": "3.4.3"
  }
 },
 "nbformat": 4,
 "nbformat_minor": 0
}