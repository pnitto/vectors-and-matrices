{
 "cells": [
  {
   "cell_type": "code",
   "execution_count": 1,
   "metadata": {
    "collapsed": true
   },
   "outputs": [],
   "source": [
    "class Bike:\n",
    "    speed = 0\n",
    "    moving = False\n",
    "    location = 0\n",
    "    top_speed = 14\n",
    "    name = \" \"\n",
    "    \n",
    "    def __init__(self, name=\"Unknown Racer\"):\n",
    "        self.name = name\n",
    "        \n",
    "    def __str__(self):\n",
    "        \n",
    "    \n",
    "    \n",
    "    def accelerate(self):\n",
    "        self.speed += 1\n",
    "        pass\n",
    "\n",
    "    def start(self):\n",
    "        self.moving = True\n",
    "        \n",
    "    \n",
    "    def stop(self):\n",
    "        pass\n",
    "    \n",
    "    def update(self):\n",
    "        self.location += self.speed * 1\n",
    "        \n",
    "        pass \n",
    "\n",
    "\n",
    "class Race:\n",
    "    start = 0\n",
    "    finish = 100\n",
    "    locations = []\n",
    "    active = False\n",
    "    \n",
    "    def __init__(self, racers):\n",
    "        self.racers = racers\n",
    "    \n",
    "    def start(self): \n",
    "        self.active = True\n",
    "        while self.active:\n",
    "            for racer in self.racers:\n",
    "                racers.start()\n",
    "                racers.update()\n",
    "                print(racer)\n",
    "    def begin_race(self):\n",
    "        self.start()\n",
    "        \n",
    "        for racer in self.racers:\n",
    "            if racer.location >= self.finsh:\n",
    "                self.stop()\n",
    "        pass\n",
    "    def stop(self):\n",
    "        print(\"Stop the Race.\")"
   ]
  },
  {
   "cell_type": "code",
   "execution_count": 2,
   "metadata": {
    "collapsed": false
   },
   "outputs": [
    {
     "data": {
      "text/plain": [
       "81"
      ]
     },
     "execution_count": 2,
     "metadata": {},
     "output_type": "execute_result"
    }
   ],
   "source": [
    "def factory():\n",
    "    return lambda x: x*x\n",
    "\n",
    "function = factory()\n",
    "function(9)"
   ]
  },
  {
   "cell_type": "code",
   "execution_count": null,
   "metadata": {
    "collapsed": true
   },
   "outputs": [],
   "source": []
  }
 ],
 "metadata": {
  "kernelspec": {
   "display_name": "Python 3",
   "language": "python",
   "name": "python3"
  },
  "language_info": {
   "codemirror_mode": {
    "name": "ipython",
    "version": 3
   },
   "file_extension": ".py",
   "mimetype": "text/x-python",
   "name": "python",
   "nbconvert_exporter": "python",
   "pygments_lexer": "ipython3",
   "version": "3.4.3"
  }
 },
 "nbformat": 4,
 "nbformat_minor": 0
}
