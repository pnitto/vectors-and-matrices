{
 "cells": [
  {
   "cell_type": "code",
   "execution_count": 1,
   "metadata": {
    "collapsed": false
   },
   "outputs": [
    {
     "ename": "SyntaxError",
     "evalue": "invalid syntax (<ipython-input-1-69ba46fa0af0>, line 22)",
     "output_type": "error",
     "traceback": [
      "\u001b[0;36m  File \u001b[0;32m\"<ipython-input-1-69ba46fa0af0>\"\u001b[0;36m, line \u001b[0;32m22\u001b[0m\n\u001b[0;31m    def vector_add(,):\u001b[0m\n\u001b[0m                   ^\u001b[0m\n\u001b[0;31mSyntaxError\u001b[0m\u001b[0;31m:\u001b[0m invalid syntax\n"
     ]
    }
   ],
   "source": [
    "\n",
    "a = [2, 3, 4, 5, 6, 7,]\n",
    "b = [8, 9, 10, 11, 12, 13, 14,]\n",
    "\n",
    "\n",
    "class ShapeException(Exception):\n",
    "    pass\n",
    "\n",
    "\n",
    "def dot():\n",
    "    pass\n",
    "\n",
    "\n",
    "def magnitude():\n",
    "    pass\n",
    "\n",
    "\n",
    "def shape():\n",
    "    pass\n",
    "\n",
    "\n",
    "def vector_add(,):\n",
    "     for x in a\n",
    "\n",
    "\n",
    "def vector_sub():\n",
    "    pass\n",
    "\n",
    "\n",
    "def vector_sum():\n",
    "    pass\n",
    "\n",
    "\n",
    "def vector_multiply():\n",
    "    pass\n",
    "\n",
    "\n",
    "def vector_mean():\n",
    "    pass\n",
    "\n",
    "\n",
    "def matrix_row():\n",
    "    pass\n",
    "\n",
    "\n",
    "def matrix_col():\n",
    "    pass\n",
    "\n",
    "\n",
    "def matrix_scalar_multiply():\n",
    "    pass\n",
    "\n",
    "\n",
    "def matrix_vector_multiply():\n",
    "    pass\n",
    "\n",
    "\n",
    "def matrix_matrix_multiply():\n",
    "    pass\n",
    "\n"
   ]
  },
  {
   "cell_type": "code",
   "execution_count": 69,
   "metadata": {
    "collapsed": false
   },
   "outputs": [],
   "source": [
    "a = [2, 3, 4, 5, 6, 7,]\n",
    "b = [8, 9, 10, 11, 12,]\n",
    "\n",
    "\n",
    "def vector_add(x, y):\n",
    "    c = [x + y for x, y in zip(a,b)]\n",
    "    print(c)\n",
    "\n",
    "\n",
    "#def vector_add(a, b):\n",
    " \n",
    "\n",
    "#print(vector_add)\n",
    "   \n",
    "#def test_vector_add():\n",
    "   # \"\"\"   \n",
    "    #[a b]  + [c d]  = [a+c b+d]\n",
    "    #Matrix + Matrix = Matrix\n",
    "    #\"\"\"\n",
    "    #assert vector_add(v, w) == [1, 5, 4]\n",
    "    #assert vector_add(u, y) == [11, 21, 31]\n",
    "    #assert vector_add(u, z) == u\n",
    "\n",
    "#def vector_add(input_1, input_2):\n",
    "    \n",
    "\n",
    "\n",
    "            "
   ]
  },
  {
   "cell_type": "code",
   "execution_count": 76,
   "metadata": {
    "collapsed": false
   },
   "outputs": [],
   "source": [
    "a = [2, 3, 4, 5, 6, 7,]\n",
    "b = [8, 9, 10, 11, 12,]\n",
    "\n",
    "\n",
    "def vector_add(x, y):\n",
    "    c = x + y\n",
    "    print(c)\n"
   ]
  },
  {
   "cell_type": "code",
   "execution_count": null,
   "metadata": {
    "collapsed": true
   },
   "outputs": [],
   "source": []
  }
 ],
 "metadata": {
  "kernelspec": {
   "display_name": "Python 3",
   "language": "python",
   "name": "python3"
  },
  "language_info": {
   "codemirror_mode": {
    "name": "ipython",
    "version": 3
   },
   "file_extension": ".py",
   "mimetype": "text/x-python",
   "name": "python",
   "nbconvert_exporter": "python",
   "pygments_lexer": "ipython3",
   "version": "3.4.3"
  }
 },
 "nbformat": 4,
 "nbformat_minor": 0
}
