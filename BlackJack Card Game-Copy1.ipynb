{
 "cells": [
  {
   "cell_type": "code",
   "execution_count": 206,
   "metadata": {},
   "outputs": [],
   "source": [
    "import random\n",
    "\n",
    "class Card():\n",
    "  \n",
    "    \n",
    "    def __init__(self, rank, suit):\n",
    "        \n",
    "        card_dict = {'A': 1,\n",
    "              'K': 10,\n",
    "              'Q': 10,\n",
    "              'J': 10,\n",
    "              '10':10,\n",
    "              '9': 9,\n",
    "              '8': 8,\n",
    "              '7': 7,\n",
    "              '6': 6,\n",
    "              '5': 5,\n",
    "              '4': 4,\n",
    "              '3': 3,\n",
    "              '2': 2\n",
    "                    }\n",
    "        \n",
    "        self.rank = rank\n",
    "        self.card_value = card_dict[rank]\n",
    "        self.suit = suit\n",
    "        \n",
    "         \n",
    "        #card = Card(\"4\",\"hearts\")\n",
    "        #print(card.rank, card.suit, card.card_value)\n",
    "        card_suits =[\"hearts\", \"diamonds\", \"spades\", \"clubs\"]\n",
    "        \n",
    "class Deck():\n",
    "    \n",
    "    def __init__(self, suit, value):\n",
    "        random_deck = []\n",
    "        for suit in card_suits:\n",
    "            for value in card_dict.keys():\n",
    "                self.random_deck.append(Card(suit,value))\n",
    "\n",
    "        #for suit in card_suits:\n",
    "            #for value in card_dict.keys():\n",
    "                #print(suit,value)\n",
    "        \n",
    "    \n",
    "class Hands():\n",
    "    \n",
    "    def __init__(self):\n",
    "    \n",
    "    def player_one_hand(self):\n",
    "        player_one_hand = []\n",
    "        first_player_one_card = self.random_deck.pop()\n",
    "        second_player_one_card = self.random_deck.pop()\n",
    "        self.player_one_hand.append(first_player_one_card, second_player_one_card)\n",
    "        \n",
    "    def computer_hand(self):\n",
    "        computer_hand = []\n",
    "        first_computer_card = self.random_deck.pop()\n",
    "        second_computer_card = self.random_deck.pop()\n",
    "        self.computer_hand.append(first_computer_card, second_computer_card)\n",
    "\n",
    "class Dealer():\n",
    "    \n",
    "    \n",
    "        \n",
    "    def hit_function(self):\n",
    "        \n",
    "        #player_one_total = first_player_one_card + second_player_one_card\n",
    "    \n",
    "    #Responsibilites:\n",
    "    #deals 2 random cards from deck to player and self(possibly one to player one to dealer, and repeat?)\n",
    "    #deals an additional card if player asks to \"hit\"\n",
    "    #if player asks to \"stay\", dealer then deals himself a card if the sum of his cards is less than 17.\n",
    "    #dealer will continue to \"hit\" until the value of his cards is greater than or equal to 17. \n",
    "    #dealer will stop \"hitting\" when the value of his cards is greater than 21(\"bust\") or between 17-21. \n",
    "    \n",
    "    #Collaborators:\n",
    "    #Game\n",
    "    #Card\n",
    "    #Deck\n",
    "    \n",
    "class Game():\n",
    "    game = False\n",
    "    \n",
    "    \n",
    "    def start_game(self):\n",
    "        self.game = True\n",
    "    \n",
    "    def \n",
    "       \n",
    "    \n",
    "    def stop_game(self):\n",
    "        self.game = False\n",
    "            \n",
    "        \n",
    "        \n",
    "    \n",
    "    #Responsibilities:\n",
    "    #starts game, do you want to play black jack?\n",
    "    #player starts with $100 and can bet $5 or $10 dollars before each hand is dealt\n",
    "    #if player gets a total of 21 on the first 2 random cards and Dealer does not have 21, Player Wins! + your bet and amount bet\n",
    "      ##check to see if players cards equal 21 and if dealers cards equal 21\n",
    "    ##if both dealer and player have 21, Dealer Wins!  - player bet\n",
    "    #if player gets a total value greater then the dealer and it does not exceed 21, then Player Wins! + your bet...\n",
    "    #if dealer exceeds 21, Player Wins!+ your bet...\n",
    "    #if player exceeds 21, Dealer Wins! - your bet\n",
    "    #if dealer gets a total value greater then the player and it does not exceed 21, the Dealer Wins! - your bet\n",
    "    #if player sum of cards is equal to the dealers sum of cars <= 20 a \"push\" occurs no money is taken or given\n",
    "    #if dealer or player win, ask to play another round or quit\n",
    "    \n",
    "    #Collaborators:\n",
    "    #Dealer\n",
    "    #Deck"
   ]
  },
  {
   "cell_type": "code",
   "execution_count": 207,
   "metadata": {},
   "outputs": [
    {
     "ename": "NameError",
     "evalue": "name 'suit' is not defined",
     "output_type": "error",
     "traceback": [
      "\u001b[0;31m---------------------------------------------------------------------------\u001b[0m",
      "\u001b[0;31mNameError\u001b[0m                                 Traceback (most recent call last)",
      "\u001b[0;32m<ipython-input-207-24e8b92f2b8e>\u001b[0m in \u001b[0;36m<module>\u001b[0;34m()\u001b[0m\n\u001b[0;32m----> 1\u001b[0;31m \u001b[0mCard\u001b[0m\u001b[0;34m(\u001b[0m\u001b[0msuit\u001b[0m\u001b[0;34m,\u001b[0m\u001b[0mvalue\u001b[0m\u001b[0;34m)\u001b[0m\u001b[0;34m\u001b[0m\u001b[0m\n\u001b[0m",
      "\u001b[0;31mNameError\u001b[0m: name 'suit' is not defined"
     ]
    }
   ],
   "source": [
    "Card(suit,value)"
   ]
  },
  {
   "cell_type": "code",
   "execution_count": 194,
   "metadata": {},
   "outputs": [],
   "source": [
    "def __init__(self):\n",
    "        \n",
    "    card_dict = {'Ac': 1,\n",
    "              'K': 10,\n",
    "              'Q': 10,\n",
    "              'J': 10,\n",
    "              '10':10,\n",
    "              '9': 9,\n",
    "              '8': 8,\n",
    "              '7': 7,\n",
    "              '6': 6,\n",
    "              '5': 5,\n",
    "              '4': 4,\n",
    "              '3': 3,\n",
    "              '2': 2}\n",
    "        \n",
    "    card_suits =[\"hearts\", \"diamonds\", \"spades\", \"clubs\"]\n",
    "    for suit in card_suits:\n",
    "        for value in card_dict.keys():\n",
    "            print(suit,value)"
   ]
  },
  {
   "cell_type": "code",
   "execution_count": 165,
   "metadata": {},
   "outputs": [
    {
     "ename": "TypeError",
     "evalue": "__init__() missing 2 required positional arguments: 'rank' and 'suit'",
     "output_type": "error",
     "traceback": [
      "\u001b[0;31m---------------------------------------------------------------------------\u001b[0m",
      "\u001b[0;31mTypeError\u001b[0m                                 Traceback (most recent call last)",
      "\u001b[0;32m<ipython-input-165-4d477fab4d84>\u001b[0m in \u001b[0;36m<module>\u001b[0;34m()\u001b[0m\n\u001b[0;32m----> 1\u001b[0;31m \u001b[0mCard\u001b[0m\u001b[0;34m(\u001b[0m\u001b[0;34m)\u001b[0m\u001b[0;34m\u001b[0m\u001b[0m\n\u001b[0m",
      "\u001b[0;31mTypeError\u001b[0m: __init__() missing 2 required positional arguments: 'rank' and 'suit'"
     ]
    }
   ],
   "source": [
    ""
   ]
  },
  {
   "cell_type": "code",
   "execution_count": 123,
   "metadata": {},
   "outputs": [
    {
     "ename": "TypeError",
     "evalue": "__init__() missing 2 required positional arguments: 'rank' and 'suit'",
     "output_type": "error",
     "traceback": [
      "\u001b[0;31m---------------------------------------------------------------------------\u001b[0m",
      "\u001b[0;31mTypeError\u001b[0m                                 Traceback (most recent call last)",
      "\u001b[0;32m<ipython-input-123-4d477fab4d84>\u001b[0m in \u001b[0;36m<module>\u001b[0;34m()\u001b[0m\n\u001b[0;32m----> 1\u001b[0;31m \u001b[0mCard\u001b[0m\u001b[0;34m(\u001b[0m\u001b[0;34m)\u001b[0m\u001b[0;34m\u001b[0m\u001b[0m\n\u001b[0m",
      "\u001b[0;31mTypeError\u001b[0m: __init__() missing 2 required positional arguments: 'rank' and 'suit'"
     ]
    }
   ],
   "source": [
    ""
   ]
  },
  {
   "cell_type": "code",
   "execution_count": 124,
   "metadata": {},
   "outputs": [
    {
     "ename": "SyntaxError",
     "evalue": "unexpected EOF while parsing (<ipython-input-124-4cd725275ea2>, line 22)",
     "output_type": "error",
     "traceback": [
      "\u001b[0;36m  File \u001b[0;32m\"<ipython-input-124-4cd725275ea2>\"\u001b[0;36m, line \u001b[0;32m22\u001b[0m\n\u001b[0;31m    \u001b[0m\n\u001b[0m    ^\u001b[0m\n\u001b[0;31mSyntaxError\u001b[0m\u001b[0;31m:\u001b[0m unexpected EOF while parsing\n"
     ]
    }
   ],
   "source": [
    "import random\n",
    "\n",
    "class Card():\n",
    "  \n",
    "    \n",
    "    def __init__(self, rank, suit):\n",
    "        \n",
    "        card_dict = {'A': 1,'K': 10, 'Q': 10,'J': 10,'10':10,'9': 9,'8': 8,'7': 7,'6': 6,'5': 5,'4': 4,'3': 3,'2': 2}\n",
    "        \n",
    "        self.rank = rank\n",
    "        self.card_value = card_dict[rank]\n",
    "        self.suit = suit\n",
    "        \n",
    "        #card = Card(\"4\",\"hearts\")\n",
    "        #print(card.rank, card.suit, card.card_value)\n",
    "        #card_suits =[\"hearts\", \"diamonds\", \"spades\", \"clubs\"]\n",
    "\n",
    "    def random_deck(self):\n",
    "       \n",
    "\n",
    "\n",
    "class Card():\n",
    "  \n",
    "    \n",
    "    def __init__(self, rank, suit):\n",
    "        \n",
    "        card_dict = {'A': 1,\n",
    "              'K': 10,\n",
    "              'Q': 10,\n",
    "              'J': 10,\n",
    "              '10':10,\n",
    "              '9': 9,\n",
    "              '8': 8,\n",
    "              '7': 7,\n",
    "              '6': 6,\n",
    "              '5': 5,\n",
    "              '4': 4,\n",
    "              '3': 3,\n",
    "              '2': 2\n",
    "                    }\n",
    "        \n",
    "        self.rank = rank\n",
    "        self.card_value = card_dict[rank]\n",
    "        self.suit = suit\n",
    "        \n",
    "        card = Card(\"4\",\"hearts\")\n",
    "        print(card.rank, card.suit, card.card_value)\n",
    "        card_suits =[\"hearts\", \"diamonds\", \"spades\", \"clubs\"]\n",
    "\n",
    "    def random_deck(self):\n",
    "        random_deck = []\n",
    "    \n",
    "            print(card_suits, card_dict)"
   ]
  },
  {
   "cell_type": "code",
   "execution_count": 205,
   "metadata": {},
   "outputs": [
    {
     "name": "stdout",
     "output_type": "stream",
     "text": [
      "Your first card is 10, computer's first card is 10, type 'SHOW' to show your other card! SHOW\n",
      "You have [10, 10, 20]\n",
      "Computer stands on 17. Do you want another card? no\n",
      "Computer has drawn 10\n",
      "Your total is 20\n",
      "You have [10, 10, 20]\n",
      "Computer has [10, 4, 10, 24]\n",
      "CONGRATS, it looks like you won this one! Let's play again!\n"
     ]
    }
   ],
   "source": [
    ""
   ]
  },
  {
   "cell_type": "code",
   "execution_count": null,
   "metadata": {},
   "outputs": [],
   "source": [
    ""
   ]
  }
 ],
 "metadata": {
  "kernelspec": {
   "display_name": "Python 3",
   "language": "python",
   "name": "python3"
  },
  "language_info": {
   "codemirror_mode": {
    "name": "ipython",
    "version": 3.0
   },
   "file_extension": ".py",
   "mimetype": "text/x-python",
   "name": "python",
   "nbconvert_exporter": "python",
   "pygments_lexer": "ipython3",
   "version": "3.4.3"
  }
 },
 "nbformat": 4,
 "nbformat_minor": 0
}